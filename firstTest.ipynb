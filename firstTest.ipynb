{
 "cells": [
  {
   "cell_type": "code",
   "execution_count": 1,
   "metadata": {},
   "outputs": [],
   "source": [
    "import numpy as np\n",
    "import pandas as pd\n",
    "import csv"
   ]
  },
  {
   "cell_type": "code",
   "execution_count": 40,
   "metadata": {},
   "outputs": [],
   "source": [
    "df = pd.read_csv('/home/william/Desktop/analiseMeninas/projeto/consulta_cand_2020_AC.csv',header=0,encoding='ISO-8859-1', delimiter=';')"
   ]
  },
  {
   "cell_type": "code",
   "execution_count": 42,
   "metadata": {},
   "outputs": [
    {
     "data": {
      "text/html": [
       "<div>\n",
       "<style scoped>\n",
       "    .dataframe tbody tr th:only-of-type {\n",
       "        vertical-align: middle;\n",
       "    }\n",
       "\n",
       "    .dataframe tbody tr th {\n",
       "        vertical-align: top;\n",
       "    }\n",
       "\n",
       "    .dataframe thead th {\n",
       "        text-align: right;\n",
       "    }\n",
       "</style>\n",
       "<table border=\"1\" class=\"dataframe\">\n",
       "  <thead>\n",
       "    <tr style=\"text-align: right;\">\n",
       "      <th></th>\n",
       "      <th>NM_CANDIDATO</th>\n",
       "      <th>SG_PARTIDO</th>\n",
       "      <th>DT_NASCIMENTO</th>\n",
       "      <th>DS_GENERO</th>\n",
       "    </tr>\n",
       "  </thead>\n",
       "  <tbody>\n",
       "    <tr>\n",
       "      <th>0</th>\n",
       "      <td>ROZANGELA NERY DO VALE</td>\n",
       "      <td>PSDB</td>\n",
       "      <td>04/12/1980</td>\n",
       "      <td>FEMININO</td>\n",
       "    </tr>\n",
       "    <tr>\n",
       "      <th>1</th>\n",
       "      <td>SILVANE SOARES DA SILVA AGUIAR</td>\n",
       "      <td>PC do B</td>\n",
       "      <td>31/07/1981</td>\n",
       "      <td>FEMININO</td>\n",
       "    </tr>\n",
       "    <tr>\n",
       "      <th>2</th>\n",
       "      <td>MAURISTELIO TESSINARI DE SOUSA</td>\n",
       "      <td>PP</td>\n",
       "      <td>07/06/1979</td>\n",
       "      <td>MASCULINO</td>\n",
       "    </tr>\n",
       "    <tr>\n",
       "      <th>3</th>\n",
       "      <td>MARCOS CLEMENTE RODRIGUES</td>\n",
       "      <td>PSDB</td>\n",
       "      <td>17/10/1974</td>\n",
       "      <td>MASCULINO</td>\n",
       "    </tr>\n",
       "    <tr>\n",
       "      <th>4</th>\n",
       "      <td>DENIS AUGUSTO KAXINAWÁ</td>\n",
       "      <td>DEM</td>\n",
       "      <td>21/01/1971</td>\n",
       "      <td>MASCULINO</td>\n",
       "    </tr>\n",
       "    <tr>\n",
       "      <th>...</th>\n",
       "      <td>...</td>\n",
       "      <td>...</td>\n",
       "      <td>...</td>\n",
       "      <td>...</td>\n",
       "    </tr>\n",
       "    <tr>\n",
       "      <th>3024</th>\n",
       "      <td>SEBASTIÃO FERREIRA DE OLIVEIRA</td>\n",
       "      <td>PSDB</td>\n",
       "      <td>10/09/1973</td>\n",
       "      <td>MASCULINO</td>\n",
       "    </tr>\n",
       "    <tr>\n",
       "      <th>3025</th>\n",
       "      <td>EDVILSON DANTAS DA SILVA</td>\n",
       "      <td>PP</td>\n",
       "      <td>04/10/1981</td>\n",
       "      <td>MASCULINO</td>\n",
       "    </tr>\n",
       "    <tr>\n",
       "      <th>3026</th>\n",
       "      <td>RUBEMAR CARDOSO</td>\n",
       "      <td>PP</td>\n",
       "      <td>12/02/1963</td>\n",
       "      <td>MASCULINO</td>\n",
       "    </tr>\n",
       "    <tr>\n",
       "      <th>3027</th>\n",
       "      <td>RAIMUNDO MOREIRA NOLETO</td>\n",
       "      <td>DC</td>\n",
       "      <td>11/12/1959</td>\n",
       "      <td>MASCULINO</td>\n",
       "    </tr>\n",
       "    <tr>\n",
       "      <th>3028</th>\n",
       "      <td>MARIA DE NAZARÉ SILVA DE MESQUITA</td>\n",
       "      <td>MDB</td>\n",
       "      <td>13/08/1976</td>\n",
       "      <td>FEMININO</td>\n",
       "    </tr>\n",
       "  </tbody>\n",
       "</table>\n",
       "<p>3029 rows × 4 columns</p>\n",
       "</div>"
      ],
      "text/plain": [
       "                           NM_CANDIDATO SG_PARTIDO DT_NASCIMENTO  DS_GENERO\n",
       "0                ROZANGELA NERY DO VALE       PSDB    04/12/1980   FEMININO\n",
       "1        SILVANE SOARES DA SILVA AGUIAR    PC do B    31/07/1981   FEMININO\n",
       "2        MAURISTELIO TESSINARI DE SOUSA         PP    07/06/1979  MASCULINO\n",
       "3             MARCOS CLEMENTE RODRIGUES       PSDB    17/10/1974  MASCULINO\n",
       "4                DENIS AUGUSTO KAXINAWÁ        DEM    21/01/1971  MASCULINO\n",
       "...                                 ...        ...           ...        ...\n",
       "3024     SEBASTIÃO FERREIRA DE OLIVEIRA       PSDB    10/09/1973  MASCULINO\n",
       "3025           EDVILSON DANTAS DA SILVA         PP    04/10/1981  MASCULINO\n",
       "3026                    RUBEMAR CARDOSO         PP    12/02/1963  MASCULINO\n",
       "3027            RAIMUNDO MOREIRA NOLETO         DC    11/12/1959  MASCULINO\n",
       "3028  MARIA DE NAZARÉ SILVA DE MESQUITA        MDB    13/08/1976   FEMININO\n",
       "\n",
       "[3029 rows x 4 columns]"
      ]
     },
     "execution_count": 42,
     "metadata": {},
     "output_type": "execute_result"
    }
   ],
   "source": [
    "df.iloc[0:,[17,28,38,42]]"
   ]
  },
  {
   "cell_type": "code",
   "execution_count": 45,
   "metadata": {},
   "outputs": [],
   "source": [
    "dados = df.loc[df['DS_GENERO'] == 'FEMININO']"
   ]
  },
  {
   "cell_type": "code",
   "execution_count": 48,
   "metadata": {},
   "outputs": [
    {
     "data": {
      "text/plain": [
       "0                  ROZANGELA NERY DO VALE\n",
       "1          SILVANE SOARES DA SILVA AGUIAR\n",
       "9                   SÂMIA DO MONTE CHAVES\n",
       "10          GEANE DA SILVA SANTOS DE LIMA\n",
       "15                ALCINÉIA DE SOUZA ROCHA\n",
       "                      ...                \n",
       "3015                  ZÉLIA DE SOUZA LIMA\n",
       "3017          CLENILDA DOS SANTOS PEREIRA\n",
       "3019      MARIA DAS GRAÇAS ALVES DA SILVA\n",
       "3022                AMANDA SOUZA DA COSTA\n",
       "3028    MARIA DE NAZARÉ SILVA DE MESQUITA\n",
       "Name: NM_CANDIDATO, Length: 1044, dtype: object"
      ]
     },
     "execution_count": 48,
     "metadata": {},
     "output_type": "execute_result"
    }
   ],
   "source": [
    "dados['NM_CANDIDATO']"
   ]
  },
  {
   "cell_type": "code",
   "execution_count": null,
   "metadata": {},
   "outputs": [],
   "source": []
  }
 ],
 "metadata": {
  "kernelspec": {
   "display_name": "Python 3",
   "language": "python",
   "name": "python3"
  },
  "language_info": {
   "codemirror_mode": {
    "name": "ipython",
    "version": 3
   },
   "file_extension": ".py",
   "mimetype": "text/x-python",
   "name": "python",
   "nbconvert_exporter": "python",
   "pygments_lexer": "ipython3",
   "version": "3.6.9"
  }
 },
 "nbformat": 4,
 "nbformat_minor": 4
}
